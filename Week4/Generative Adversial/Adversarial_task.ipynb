{
  "cells": [
    {
      "cell_type": "code",
      "source": [
        "! shred -u setup_google_colab.py\n",
        "! wget https://raw.githubusercontent.com/hse-aml/intro-to-dl/master/setup_google_colab.py -O setup_google_colab.py\n",
        "import setup_google_colab\n",
        "setup_google_colab.setup_week4()"
      ],
      "metadata": {
        "id": "LIqus26uPQSs",
        "colab": {
          "base_uri": "https://localhost:8080/"
        },
        "outputId": "22cbfe98-04e2-40ad-e97a-c2fc429d59b9"
      },
      "execution_count": 1,
      "outputs": [
        {
          "output_type": "stream",
          "name": "stdout",
          "text": [
            "shred: setup_google_colab.py: failed to open for writing: No such file or directory\n",
            "--2022-04-04 07:30:29--  https://raw.githubusercontent.com/hse-aml/intro-to-dl/master/setup_google_colab.py\n",
            "Resolving raw.githubusercontent.com (raw.githubusercontent.com)... 185.199.108.133, 185.199.109.133, 185.199.110.133, ...\n",
            "Connecting to raw.githubusercontent.com (raw.githubusercontent.com)|185.199.108.133|:443... connected.\n",
            "HTTP request sent, awaiting response... 200 OK\n",
            "Length: 3636 (3.6K) [text/plain]\n",
            "Saving to: ‘setup_google_colab.py’\n",
            "\n",
            "setup_google_colab. 100%[===================>]   3.55K  --.-KB/s    in 0s      \n",
            "\n",
            "2022-04-04 07:30:29 (44.5 MB/s) - ‘setup_google_colab.py’ saved [3636/3636]\n",
            "\n",
            "**************************************************\n",
            "lfw-deepfunneled.tgz\n",
            "**************************************************\n",
            "lfw.tgz\n",
            "**************************************************\n",
            "lfw_attributes.txt\n"
          ]
        }
      ]
    },
    {
      "cell_type": "code",
      "execution_count": 2,
      "metadata": {
        "id": "8hQRQnEIPHOJ",
        "colab": {
          "base_uri": "https://localhost:8080/"
        },
        "outputId": "39407ba2-ffc0-4517-eb98-e31c8063890b"
      },
      "outputs": [
        {
          "output_type": "stream",
          "name": "stdout",
          "text": [
            "TensorFlow 1.x selected.\n"
          ]
        }
      ],
      "source": [
        "# set tf 1.x for colab\n",
        "%tensorflow_version 1.x"
      ]
    },
    {
      "cell_type": "markdown",
      "metadata": {
        "id": "W5QZSHvSPHOO"
      },
      "source": [
        "### Generating human faces with Adversarial Networks\n",
        "<img src=\"https://github.com/hse-aml/intro-to-dl/blob/master/week4/images/nvidia_cool_gan.png?raw=1\" width=\"400px\"/>\n",
        "_© research.nvidia.com_\n",
        "\n",
        "This time we'll train a neural net to generate plausible human faces in all their subtlty: appearance, expression, accessories, etc. 'Cuz when us machines gonna take over Earth, there won't be any more faces left. We want to preserve this data for future iterations. Yikes...\n",
        "\n",
        "Based on https://github.com/Lasagne/Recipes/pull/94 .\n"
      ]
    },
    {
      "cell_type": "code",
      "execution_count": 3,
      "metadata": {
        "collapsed": true,
        "id": "srJnZwNsPHOT"
      },
      "outputs": [],
      "source": [
        "import sys\n",
        "sys.path.append(\"..\")\n",
        "import grading\n",
        "import download_utils\n",
        "import tqdm_utils"
      ]
    },
    {
      "cell_type": "code",
      "execution_count": 4,
      "metadata": {
        "collapsed": true,
        "id": "uLu49y8kPHOU"
      },
      "outputs": [],
      "source": [
        "download_utils.link_week_4_resources()"
      ]
    },
    {
      "cell_type": "code",
      "execution_count": 5,
      "metadata": {
        "collapsed": true,
        "id": "PvrHSEqcPHOV",
        "colab": {
          "base_uri": "https://localhost:8080/"
        },
        "outputId": "3154f333-ff5f-4258-c35f-c79e0538fdbb"
      },
      "outputs": [
        {
          "output_type": "stream",
          "name": "stdout",
          "text": [
            "**************************************************\n",
            "\n"
          ]
        }
      ],
      "source": [
        "import matplotlib.pyplot as plt\n",
        "%matplotlib inline\n",
        "import numpy as np\n",
        "plt.rcParams.update({'axes.titlesize': 'small'})\n",
        "\n",
        "from sklearn.datasets import load_digits\n",
        "#The following line fetches you two datasets: images, usable for autoencoder training and attributes.\n",
        "#Those attributes will be required for the final part of the assignment (applying smiles), so please keep them in mind\n",
        "from lfw_dataset import load_lfw_dataset \n",
        "data,attrs = load_lfw_dataset(dimx=36,dimy=36)\n",
        "\n",
        "#preprocess faces\n",
        "data = np.float32(data)/255.\n",
        "\n",
        "IMG_SHAPE = data.shape[1:]"
      ]
    },
    {
      "cell_type": "code",
      "execution_count": 6,
      "metadata": {
        "id": "FCVkZ0PSPHOW",
        "outputId": "63be7369-b258-479a-8324-458d56d53883",
        "colab": {
          "base_uri": "https://localhost:8080/",
          "height": 283
        }
      },
      "outputs": [
        {
          "output_type": "execute_result",
          "data": {
            "text/plain": [
              "<matplotlib.image.AxesImage at 0x7fbcb6be9b50>"
            ]
          },
          "metadata": {},
          "execution_count": 6
        },
        {
          "output_type": "display_data",
          "data": {
            "text/plain": [
              "<Figure size 432x288 with 1 Axes>"
            ],
            "image/png": "[encoded data removed]"
          },
          "metadata": {
            "needs_background": "light"
          }
        }
      ],
      "source": [
        "#print random image\n",
        "plt.imshow(data[np.random.randint(data.shape[0])], cmap=\"gray\", interpolation=\"none\")"
      ]
    },
    {
      "cell_type": "markdown",
      "metadata": {
        "id": "ZxOWtV3vPHOY"
      },
      "source": [
        "# Generative adversarial nets 101\n",
        "\n",
        "<img src=\"https://github.com/hse-aml/intro-to-dl/blob/master/week4/images/noise_to_face.png?raw=1\" width=\"400px\"/>\n",
        "_© torch.github.io_\n",
        "\n",
        "Deep learning is simple, isn't it? \n",
        "* build some network that generates the face (small image)\n",
        "* make up a __measure__ of __how good that face is__\n",
        "* optimize with gradient descent :)\n",
        "\n",
        "\n",
        "The only problem is: how can we engineers tell well-generated faces from bad? And i bet you we won't ask a designer for help. \n",
        "\n",
        "__If we can't tell good faces from bad, we delegate it to yet another neural network!__\n",
        "\n",
        "That makes the two of them:\n",
        "* __G__enerator - takes random noize for inspiration and tries to generate a face sample. \n",
        "  * Let's call him __G__(z), where z is a gaussian noize.\n",
        "* __D__iscriminator - takes a face sample and tries to tell if it's great or fake. \n",
        "  * Predicts the probability of input image being a __real face__\n",
        "  * Let's call him __D__(x), x being an image.\n",
        "  * __D(x)__ is a predition for real image and __D(G(z))__ is prediction for the face made by generator.\n",
        "\n",
        "Before we dive into training them, let's construct the two networks."
      ]
    },
    {
      "cell_type": "code",
      "execution_count": 7,
      "metadata": {
        "id": "UU_B5ZmOPHOb",
        "outputId": "f522c33a-0891-4ca0-fdfd-e178990e3ebf",
        "colab": {
          "base_uri": "https://localhost:8080/"
        }
      },
      "outputs": [
        {
          "output_type": "stream",
          "name": "stdout",
          "text": [
            "WARNING:tensorflow:From /content/keras_utils.py:68: The name tf.get_default_session is deprecated. Please use tf.compat.v1.get_default_session instead.\n",
            "\n",
            "WARNING:tensorflow:From /content/keras_utils.py:75: The name tf.ConfigProto is deprecated. Please use tf.compat.v1.ConfigProto instead.\n",
            "\n",
            "WARNING:tensorflow:From /content/keras_utils.py:77: The name tf.InteractiveSession is deprecated. Please use tf.compat.v1.InteractiveSession instead.\n",
            "\n"
          ]
        },
        {
          "output_type": "stream",
          "name": "stderr",
          "text": [
            "Using TensorFlow backend.\n"
          ]
        }
      ],
      "source": [
        "import tensorflow as tf\n",
        "from keras_utils import reset_tf_session\n",
        "s = reset_tf_session()\n",
        "\n",
        "import keras\n",
        "from keras.models import Sequential\n",
        "from keras import layers as L"
      ]
    },
    {
      "cell_type": "code",
      "execution_count": 8,
      "metadata": {
        "collapsed": true,
        "scrolled": false,
        "id": "9kat19mWPHOc",
        "colab": {
          "base_uri": "https://localhost:8080/"
        },
        "outputId": "e4c99286-5374-47e2-9544-57d9685bb507"
      },
      "outputs": [
        {
          "output_type": "stream",
          "name": "stdout",
          "text": [
            "WARNING:tensorflow:From /tensorflow-1.15.2/python3.7/tensorflow_core/python/ops/resource_variable_ops.py:1630: calling BaseResourceVariable.__init__ (from tensorflow.python.ops.resource_variable_ops) with constraint is deprecated and will be removed in a future version.\n",
            "Instructions for updating:\n",
            "If using Keras pass *_constraint arguments to layers.\n"
          ]
        }
      ],
      "source": [
        "CODE_SIZE = 256\n",
        "\n",
        "generator = Sequential()\n",
        "generator.add(L.InputLayer([CODE_SIZE],name='noise'))\n",
        "generator.add(L.Dense(10*8*8, activation='elu'))\n",
        "\n",
        "generator.add(L.Reshape((8,8,10)))\n",
        "generator.add(L.Conv2DTranspose(64,kernel_size=(5,5),activation='elu'))\n",
        "generator.add(L.Conv2DTranspose(64,kernel_size=(5,5),activation='elu'))\n",
        "generator.add(L.UpSampling2D(size=(2,2)))\n",
        "generator.add(L.Conv2DTranspose(32,kernel_size=3,activation='elu'))\n",
        "generator.add(L.Conv2DTranspose(32,kernel_size=3,activation='elu'))\n",
        "generator.add(L.Conv2DTranspose(32,kernel_size=3,activation='elu'))\n",
        "\n",
        "generator.add(L.Conv2D(3,kernel_size=3,activation=None))\n"
      ]
    },
    {
      "cell_type": "code",
      "execution_count": 9,
      "metadata": {
        "collapsed": true,
        "id": "fBfXPzDdPHOd"
      },
      "outputs": [],
      "source": [
        "assert generator.output_shape[1:] == IMG_SHAPE, \"generator must output an image of shape %s, but instead it produces %s\"%(IMG_SHAPE,generator.output_shape[1:])"
      ]
    },
    {
      "cell_type": "markdown",
      "metadata": {
        "id": "NIqZ1EtyPHOe"
      },
      "source": [
        "### Discriminator\n",
        "* Discriminator is your usual convolutional network with interlooping convolution and pooling layers\n",
        "* The network does not include dropout/batchnorm to avoid learning complications.\n",
        "* We also regularize the pre-output layer to prevent discriminator from being too certain."
      ]
    },
    {
      "cell_type": "code",
      "execution_count": 17,
      "metadata": {
        "collapsed": true,
        "id": "3HwwKtAEPHOf"
      },
      "outputs": [],
      "source": [
        "discriminator = Sequential()\n",
        "\n",
        "discriminator.add(L.InputLayer(IMG_SHAPE))\n",
        "\n",
        "discriminator.add(L.Conv2D(32, kernel_size=3, activation='elu'))\n",
        "discriminator.add(L.Conv2D(32, kernel_size=5, activation='elu'))\n",
        "discriminator.add(L.Conv2D(64, kernel_size=3, activation='elu'))\n",
        "discriminator.add(L.MaxPool2D())\n",
        "discriminator.add(L.Conv2D(64, kernel_size=3, activation='elu'))\n",
        "discriminator.add(L.Conv2D(128, kernel_size=5, activation='elu'))\n",
        "discriminator.add(L.Conv2D(128, kernel_size=3, activation='elu'))\n",
        "discriminator.add(L.Flatten())\n",
        "discriminator.add(L.Dense(256,activation='tanh'))\n",
        "discriminator.add(L.Dense(1,activation=tf.nn.sigmoid))\n"
      ]
    },
    {
      "cell_type": "markdown",
      "metadata": {
        "id": "j0rIWnUXPHOg"
      },
      "source": [
        "# Training\n",
        "\n",
        "We train the two networks concurrently:\n",
        "* Train __discriminator__ to better distinguish real data from __current__ generator\n",
        "* Train __generator__ to make discriminator think generator is real\n",
        "* Since discriminator is a differentiable neural network, we train both with gradient descent.\n",
        "\n",
        "<img src=\"https://github.com/hse-aml/intro-to-dl/blob/master/week4/images/gan.png?raw=1\" width=\"600px\"/>\n",
        "_© deeplearning4j.org_\n",
        "\n",
        "Training is done iteratively until discriminator is no longer able to find the difference (or until you run out of patience).\n",
        "\n",
        "\n",
        "### Tricks:\n",
        "* Regularize discriminator output weights to prevent explosion\n",
        "* Train generator with __adam__ to speed up training. Discriminator trains with SGD to avoid problems with momentum.\n",
        "* More: https://github.com/soumith/ganhacks\n"
      ]
    },
    {
      "cell_type": "code",
      "execution_count": 18,
      "metadata": {
        "collapsed": true,
        "id": "EyrgslzlPHOg"
      },
      "outputs": [],
      "source": [
        "noise = tf.placeholder('float32',[None,CODE_SIZE])\n",
        "real_data = tf.placeholder('float32',[None,]+list(IMG_SHAPE))\n",
        "\n",
        "logp_real = discriminator(real_data)\n",
        "\n",
        "generated_data = generator(noise)\n",
        "\n",
        "logp_gen = discriminator(generated_data)\n"
      ]
    },
    {
      "cell_type": "code",
      "execution_count": 19,
      "metadata": {
        "collapsed": true,
        "id": "il_PIxekPHOh"
      },
      "outputs": [],
      "source": [
        "# d_loss = -tf.reduce_mean(logp_real[:,1] + logp_gen[:,0])\n",
        "\n",
        "# d_loss_real = tf.reduce_mean(tf.nn.sigmoid_cross_entropy_with_logits(logits=logp_real, labels=tf.ones_like(logp_real)))\n",
        "\n",
        "# d_loss_fake = tf.reduce_mean(tf.nn.sigmoid_cross_entropy_with_logits(logits=logp_gen, labels=tf.zeros_like(logp_gen)))\n",
        "\n",
        "# d_loss = d_loss_real + d_loss_fake\n",
        "\n",
        "# discriminator\n",
        "d_loss = -tf.reduce_mean(tf.log(logp_real) + tf.log(1 - logp_gen))\n",
        "\n",
        "# disc_optimizer =  tf.train.GradientDescentOptimizer(1e-3).minimize(d_loss, var_list=discriminator.trainable_weights)\n",
        "\n",
        "# #regularize\n",
        "# d_loss += tf.reduce_mean(discriminator.layers[-1].kernel**2)\n",
        "\n",
        "#optimize\n",
        "disc_optimizer =  tf.train.GradientDescentOptimizer(1e-3).minimize(d_loss,var_list=discriminator.trainable_weights)\n"
      ]
    },
    {
      "cell_type": "code",
      "execution_count": 20,
      "metadata": {
        "collapsed": true,
        "id": "gvj-S16QPHOi"
      },
      "outputs": [],
      "source": [
        "########################\n",
        "###generator training###\n",
        "########################\n",
        "\n",
        "g_loss = -tf.reduce_mean(tf.log(logp_gen))\n",
        "\n",
        "gen_optimizer = tf.train.AdamOptimizer(1e-4).minimize(g_loss,var_list=generator.trainable_weights)\n",
        "\n",
        "    "
      ]
    },
    {
      "cell_type": "code",
      "execution_count": 21,
      "metadata": {
        "collapsed": true,
        "id": "ePMWoGOgPHOj"
      },
      "outputs": [],
      "source": [
        "s.run(tf.global_variables_initializer())"
      ]
    },
    {
      "cell_type": "markdown",
      "metadata": {
        "id": "ouckqzZOPHOj"
      },
      "source": [
        "### Auxiliary functions\n",
        "Here we define a few helper functions that draw current data distributions and sample training batches."
      ]
    },
    {
      "cell_type": "code",
      "execution_count": 15,
      "metadata": {
        "collapsed": true,
        "id": "Oz7CxbnRPHOj"
      },
      "outputs": [],
      "source": [
        "def sample_noise_batch(bsize):\n",
        "    return np.random.normal(size=(bsize, CODE_SIZE)).astype('float32')\n",
        "\n",
        "def sample_data_batch(bsize):\n",
        "    idxs = np.random.choice(np.arange(data.shape[0]), size=bsize)\n",
        "    return data[idxs]\n",
        "\n",
        "def sample_images(nrow,ncol, sharp=False):\n",
        "    images = generator.predict(sample_noise_batch(bsize=nrow*ncol))\n",
        "    if np.var(images)!=0:\n",
        "        images = images.clip(np.min(data),np.max(data))\n",
        "    for i in range(nrow*ncol):\n",
        "        plt.subplot(nrow,ncol,i+1)\n",
        "        if sharp:\n",
        "            plt.imshow(images[i].reshape(IMG_SHAPE),cmap=\"gray\", interpolation=\"none\")\n",
        "        else:\n",
        "            plt.imshow(images[i].reshape(IMG_SHAPE),cmap=\"gray\")\n",
        "    plt.show()\n",
        "\n",
        "def sample_probas(bsize):\n",
        "    plt.title('Generated vs real data')\n",
        "    plt.hist(discriminator.predict(sample_data_batch(bsize)),\n",
        "             label='D(x)', alpha=0.5,range=[0,1])\n",
        "    plt.hist(discriminator.predict(generator.predict(sample_noise_batch(bsize))),\n",
        "             label='D(G(z))',alpha=0.5,range=[0,1])\n",
        "    plt.legend(loc='best')\n",
        "    plt.show()"
      ]
    },
    {
      "cell_type": "markdown",
      "metadata": {
        "id": "imaRuWmtPHOk"
      },
      "source": [
        "### Training\n",
        "Main loop.\n",
        "We just train generator and discriminator in a loop and plot results once every N iterations."
      ]
    },
    {
      "cell_type": "code",
      "execution_count": null,
      "metadata": {
        "scrolled": false,
        "id": "HtAM-fIaPHOl",
        "outputId": "6e9c4ac7-8331-447a-cb0f-399159107a23",
        "colab": {
          "base_uri": "https://localhost:8080/",
          "height": 564,
          "referenced_widgets": [
            "f3814cc8dfb6498081fbb08308bd2d65",
            "e61d9a7ead8b435fb958bbdb9c97c761"
          ]
        }
      },
      "outputs": [
        {
          "output_type": "display_data",
          "data": {
            "text/plain": [
              "Output()"
            ],
            "application/vnd.jupyter.widget-view+json": {
              "version_major": 2,
              "version_minor": 0,
              "model_id": "f3814cc8dfb6498081fbb08308bd2d65"
            }
          },
          "metadata": {}
        },
        {
          "output_type": "stream",
          "name": "stdout",
          "text": [
            "******************************"
          ]
        }
      ],
      "source": [
        "from IPython import display\n",
        "import ipywidgets as widgets\n",
        "from IPython.display import display\n",
        "\n",
        "out = widgets.Output()\n",
        "display(out)\n",
        "\n",
        "for epoch in tqdm_utils.tqdm_notebook_failsafe(range(14000)):\n",
        "    \n",
        "    feed_dict = {\n",
        "        real_data:sample_data_batch(100),\n",
        "        noise:sample_noise_batch(100)\n",
        "    }\n",
        "    \n",
        "    for i in range(5):\n",
        "        s.run(disc_optimizer,feed_dict)\n",
        "    \n",
        "    s.run(gen_optimizer,feed_dict)\n",
        "    \n",
        "    if epoch %100==0:\n",
        "        out.clear_output(wait=True)\n",
        "        with out:\n",
        "          print(epoch)\n",
        "          sample_images(2,3,True)\n",
        "          sample_probas(1000)\n",
        "        "
      ]
    },
    {
      "cell_type": "code",
      "execution_count": 22,
      "metadata": {
        "id": "hokFIHccPHOl",
        "colab": {
          "base_uri": "https://localhost:8080/"
        },
        "outputId": "834fa969-0f50-45b5-f16e-e33a7a4a6d95"
      },
      "outputs": [
        {
          "output_type": "stream",
          "name": "stdout",
          "text": [
            "Submitted to Coursera platform. See results on assignment page!\n"
          ]
        }
      ],
      "source": [
        "from submit_honor import submit_honor\n",
        "submit_honor((generator, discriminator), 'naeemghahramanpour@gmail.com', 's8ONSKIInyo0d4l3')"
      ]
    },
    {
      "cell_type": "code",
      "execution_count": null,
      "metadata": {
        "scrolled": false,
        "id": "U3oXJqH2PHOm"
      },
      "outputs": [],
      "source": [
        "#The network was trained for about 15k iterations. \n",
        "#Training for longer yields MUCH better results\n",
        "plt.figure(figsize=[16,24])\n",
        "sample_images(16,8)"
      ]
    },
    {
      "cell_type": "code",
      "execution_count": null,
      "metadata": {
        "collapsed": true,
        "id": "hDVxE3QlPHOn"
      },
      "outputs": [],
      "source": [
        ""
      ]
    }
  ],
  "metadata": {
    "anaconda-cloud": {},
    "kernelspec": {
      "display_name": "Python 3",
      "language": "python",
      "name": "python3"
    },
    "language_info": {
      "codemirror_mode": {
        "name": "ipython",
        "version": 3
      },
      "file_extension": ".py",
      "mimetype": "text/x-python",
      "name": "python",
      "nbconvert_exporter": "python",
      "pygments_lexer": "ipython3",
      "version": "3.6.5"
    },
    "colab": {
      "name": "Adversarial_task.ipynb",
      "provenance": []
    },
    "widgets": {
      "application/vnd.jupyter.widget-state+json": {
        "f3814cc8dfb6498081fbb08308bd2d65": {
          "model_module": "@jupyter-widgets/output",
          "model_name": "OutputModel",
          "model_module_version": "1.0.0",
          "state": {
            "_dom_classes": [],
            "_model_module": "@jupyter-widgets/output",
            "_model_module_version": "1.0.0",
            "_model_name": "OutputModel",
            "_view_count": null,
            "_view_module": "@jupyter-widgets/output",
            "_view_module_version": "1.0.0",
            "_view_name": "OutputView",
            "layout": "IPY_MODEL_e61d9a7ead8b435fb958bbdb9c97c761",
            "msg_id": "",
            "outputs": [
              {
                "output_type": "stream",
                "name": "stdout",
                "text": [
                  "8400\n"
                ]
              },
              {
                "output_type": "display_data",
                "data": {
                  "text/plain": "<Figure size 432x288 with 6 Axes>",
                  "image/png": "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\n"
                },
                "metadata": {
                  "needs_background": "light"
                }
              },
              {
                "output_type": "display_data",
                "data": {
                  "text/plain": "<Figure size 432x288 with 1 Axes>",
                  "image/png": "iVBORw0KGgoAAAANSUhEUgAAAXcAAAEFCAYAAAAYKqc0AAAABHNCSVQICAgIfAhkiAAAAAlwSFlzAAALEgAACxIB0t1+/AAAADh0RVh0U29mdHdhcmUAbWF0cGxvdGxpYiB2ZXJzaW9uMy4yLjIsIGh0dHA6Ly9tYXRwbG90bGliLm9yZy+WH4yJAAAYlUlEQVR4nO3de5RV5Z3m8e/DRYGOCVpcYkBTGHWJyEiwgmQcHeNtCGbETLy2LURAIuMtXlaiZlbHmFlRs6RtEzJpSZNudNqIrWagHS8NIurQokEoQdTGChEtRcGKEB1Dhstv/jgv1YeyLqeoOnWot57PWmedvd+9z9m/ty5Pvec9++xSRGBmZnnpVekCzMys8znczcwy5HA3M8uQw93MLEMOdzOzDDnczcwy5HC3spN0gqSnJC2V9LSkb3TRcaslndGO/R+UVF2+ilo99oq93S7pZElHdn5V1p053K2sJFUB/wP484g4GTgNeKeTj9HSz3E1UHK4d6ZWaiqHkwGHu+3B4W7lNhH4dURsBIiI7RHxHICkmjSif1bS9antZkn3Sno0jfL7p/ab0vozkkantpWS7gLulTQ6bX9O0ux07JnA+ekVw0GSvpmO9S+STknPcVp6noeBYcWFSxoq6ZGi9cWSPiPp79LzLG060k9tPwaekNRP0v+UtETSQkmfltQrPc/TkhZJ+nRLXzhJN6T+zCH9rkq6OB1jZVruD3wTuFXSPanm3V/TByX13ptvmmUgInzzrWw34LvAt9LyKcBSYGFaXwwcmJb/CRgK3Az8ZWq7HTgLOAaYl9o+ByxIy78DDk/L/QGl5QXAERRGtHektirgcUDAnwFLU/ty4CBgf2ADUN2k/sfSY4cDDwN9gX8pOlavJvsvBU5Ny1cAU9Py+cD1aXlAur8GuDQtr2jyPEOBp1O9I4HfNXlsf2BlWr4Z+Fpa3g/ok5bvAk6v9M+Ab5W59Wkz/c065h0KQUtELAGWFM0f/zvg15IADgQOSe2r0v1bqf1o4N9LWprad6b7DyKiLi2PAGZJGgAcRuGPQLEvAKOAp9L64HTfOyJ+DyBpdTP1PwR8g8IfhAciYrukn1F4tdAAfA/4qMljfpPujwa+JGkyhT8Kz0r6FHC3pOEU/qg82Mwxd/dndUQE8Kqk3cf4T5KuphD6hzfzuCrg55IOTF+DlS08v2XO4W7l9iiwVNLfRMQ7kop/5l4CzomIrWn6YBfwNaD4gkcCXgOejojpAJL6pm27ivabCcyKiMWSFqbHbQd2T0usB1ZTGOFG0XPsTEH4MTC6mfofAn5F4XdlUqrzgYj4B0k3Af8FuKfJY3bX9RrwXETcW1T3WRRG4RdJug44oIWv2xvAaBX+8h0JfCq1/zfgpPQ1Wp/aivv558AjEfG3kn6avg7WAzncrawiokHSZcB9koJC8P112nwD8HB68/FPwNdbeI7Vkl6X9HR6/CLgR012+yfgLkmv8W/vJa2hMBf9j8ClwP3A05J2pm1XAX8JPEkhTN9s5tgfSPoT8PuI+L+SBgILUl8CuKiV7s8B5ki6JK3PojANdJOkLwLvNXfMdNx3Jf0z8BzwIvBB2vQw8CyFEfnutiXA7el9hL+j8KriPwN/bKU2y9zueUMzM8uIz5YxM8uQw93MLEMOdzOzDDnczcwytE+cLTNo0KCorq6udBlmZt3Kiy+++H5EDG5u2z4R7tXV1axY0ep1k8zMrAlJG1ra5mkZM7MMOdzNzDLkcDczy9A+Meduttv27dupr69n27ZtlS5ln9SvXz+GDx9O3759297ZejSHu+1T6uvrOeCAA6iuriZdLdKSiKChoYH6+npGjBhR6XJsH+dpGdunbNu2jaqqKgd7MyRRVVXlVzVWEoe77XMc7C3z18ZK5XA3M8uQ59xtn3bnonWd+nzXnO7/I209Q/cP96durdyxv3Jj5Y5tZdO7d29Gjx7N9u3b6dOnD5MnT+aaa66hV6/CC91Vq1Yxe/Zs5s6d2+JzzJ49mwEDBjB16tSuKttsD56WMWuif//+1NbWsnbtWhYtWsRjjz3GD37wg8btP/rRj7jqqqtafY6pU6fy05/+tNylmrXI4W7WiiFDhjBnzhxmz55NRPDhhx+yevVqjj32WACuvvpqbrnlFgCeeOIJTjrpJHbt2sWAAQOorq7mhRdeqGT51oN1/2kZszI77LDD2LlzJ5s2beKVV17hmGOOadx266238qUvfYkTTzyRq666ikcffbRx+qampoZnn32WcePGVap068E8cjdrh40bNzJ48L9dYXXAgAH84he/4PTTT+eKK67gC1/4QuO2IUOG8M4771SiTDOHu1lb1q9fT+/evRkyZAj9+/f/xIeI1qxZQ1VV1SeCfNu2bfTv378rSzVr5GkZ26dV+tTFzZs3c9lll3HFFVcgiZEjRzJr1qzG7Rs2bGDWrFmsWrWKiRMncvbZZ3P88ccDsG7dOk444YRKlW7t0Nmn3LZHuX7GPXI3a+KPf/wjY8aMYdSoUZx22mmcccYZfP/73wfgqKOOYuvWrXz44YdEBNOmTeOOO+7gc5/7HHPnzmX69OmNI/tly5Zx+umnV7Ir1oN55G7WxM6dO1vdPnXqVObPn8/06dNZvHhxY/txxx3HmjVrgMK58KNGjaKqqqqstZq1xCN3s3aaOXMm+++/f6v7vP/++/zwhz/soorMPskjd7N26tevHxdffHGr+3g6xirNI3czsww53M3MMuRwNzPLkOfcbd/W2Vf99JU8rYfwyN2sid69ezee537ssccya9Ysdu3a1bh91apVTJs2rXH98ccfZ9y4cRx11FGMGTOG888/nzfffLNx+7e//W2eeeaZFo93/fXXs2TJksb1Cy64gNdff72Te2U9jcPdrIn2XPL35Zdf5sorr2TevHm89tpr1NbWctFFF/HGG28A0NDQwPLlyznppJNaPN6VV17Jbbfd1rg+c+ZMfvzjH5enc9ZjONzNWtHWJX9vv/12brrpJkaOHNn4mLPOOqsxzB966CEmTJgAwIoVKxgzZgxjxoxh9OjRjf8P9fOf/zwNDQ28++67AJx44oksXryYHTt2dGVXLTMOd7M2FF/yd8WKFXtc8nft2rWMHTu2xccuW7aM4447DihcAri2tpba2lomTJjA9ddf37jf2LFjWbZsGQC9evXi8MMP56WXXipTj6wncLibtUPTS/4Wa2hoYMyYMRx55JHccccdLe4/f/58Vq5cucdUTNPLA/tywdZRDnezNrR2yd9Ro0axcuVKAKqqqqitrWXGjBl89NFHAJ/Y/+WXX+bmm2/m/vvvp3fv3o3tTS8P7MsFW0f5VEjbt1X41MW2Lvn7ne98h69//euMHz++cd79448/btw+cuRI6urqOPnkk9myZQsXXngh99xzzydG8+vWrePcc8/dY714+sesvUoKd0lvAB8CO4EdEVEj6SBgPlANvAGcFxEfqPAu0V3AROBj4JsRsbLzSzcrj92X/N2+fTt9+vTh4osv5tprrwX2vOTvAQccwOjRo7nrrruYPHkyf/jDHxg0aBCHHnpo49k1Z555JnfffTfTp09nwYIFbNiwgUsvvbTxWLW1tWzfvp26ujpqamoAeO+99+jfvz+f/exnu77zlo32jNy/EhHvF63fADwZEbdJuiGtfxf4KnBEuh0P/Dzdm3UL7bnkLxQC/Mwzz2x23xNPPJEbb7yRLVu2MGXKFKZMmfKJfR555BHOOecc+vQp/Dred999fOtb3+pgL6yn68ic+yRgXlqeB5xd1H5PFCwHBko6uAPHMdunlHLJ32KzZs3a40NNTe3YsYPrrruucX3gwIHN/hEwa49SR+4B/LOkAO6OiDnA0IjYmLa/CwxNy8OAt4oeW5/aNha1IWkGMAPg0EMP3bvqLUsR0XgO+L6olEv+Ftv9b/daUjzXDnDJJZe0uG9ElHxc69lKHbn/h4gYS2HK5XJJe3zcLgo/ce36qYuIORFRExE1LZ1aZj1Pv379aGhocIg1IyJoaGigX79+lS7FuoGSRu4R8Xa63yTp18A44D1JB0fExjTtsint/jZwSNHDh6c2szYNHz6c+vp6Nm/eXOlS9kn9+vVj+PDhlS7DuoE2w13SnwG9IuLDtHwGcAuwEJgC3JbuF6SHLASukHQ/hTdStxZN35i1qm/fvowYMaLSZZh1e6WM3IcCv05zoH2A+yLicUm/AR6QNA3YAJyX9n+UwmmQdRROhWx5AtHMzMqizXCPiPXAsc20NwCnNtMewOWdUp2Zme0VX37AzCxDDnczsww53M3MMuRwNzPLkMPdzCxDDnczsww53M3MMuRwNzPLkMPdzCxDDnczsww53M3MMuRwNzPLkMPdzCxDDnczsww53M3MMuRwNzPLkMPdzCxDDnczsww53M3MMuRwNzPLkMPdzCxDDnczsww53M3MMuRwNzPLkMPdzCxDDnczsww53M3MMlRyuEvqLWmVpEfS+ghJz0uqkzRf0n6pff+0Xpe2V5endDMza0l7Ru5XA68Wrd8O3BkRhwMfANNS+zTgg9R+Z9rPzMy6UEnhLmk4cCbwt2ldwCnAg2mXecDZaXlSWidtPzXtb2ZmXaTUkftfA98BdqX1KmBLROxI6/XAsLQ8DHgLIG3fmvbfg6QZklZIWrF58+a9LN/MzJrTZrhL+hqwKSJe7MwDR8SciKiJiJrBgwd35lObmfV4fUrY5wTgLEkTgX7Ap4G7gIGS+qTR+XDg7bT/28AhQL2kPsBngIZOr9zMzFrU5sg9Im6MiOERUQ1cACyJiIuAp4Bz0m5TgAVpeWFaJ21fEhHRqVWbmVmrOnKe+3eBayXVUZhTn5va5wJVqf1a4IaOlWhmZu1VyrRMo4hYCixNy+uBcc3ssw04txNqMzOzveRPqJqZZcjhbmaWIYe7mVmGHO5mZhlyuJuZZcjhbmaWIYe7mVmGHO5mZhlyuJuZZcjhbmaWIYe7mVmGHO5mZhlyuJuZZcjhbmaWIYe7mVmGHO5mZhlyuJuZZcjhbmaWIYe7mVmGHO5mZhlyuJuZZcjhbmaWIYe7mVmGHO5mZhlyuJuZZcjhbmaWIYe7mVmG2gx3Sf0kvSDpJUlrJf0gtY+Q9LykOknzJe2X2vdP63Vpe3V5u2BmZk2VMnL/E3BKRBwLjAEmSBoP3A7cGRGHAx8A09L+04APUvudaT8zM+tCbYZ7FHyUVvumWwCnAA+m9nnA2Wl5UlonbT9VkjqtYjMza1NJc+6SekuqBTYBi4DfAlsiYkfapR4YlpaHAW8BpO1bgarOLNrMzFpXUrhHxM6IGAMMB8YBR3X0wJJmSFohacXmzZs7+nRmZlakXWfLRMQW4Cngy8BASX3SpuHA22n5beAQgLT9M0BDM881JyJqIqJm8ODBe1m+mZk1p5SzZQZLGpiW+wOnA69SCPlz0m5TgAVpeWFaJ21fEhHRmUWbmVnr+rS9CwcD8yT1pvDH4IGIeETSK8D9kv47sAqYm/afC9wrqQ74PXBBGeo2M7NWtBnuEbEa+GIz7espzL83bd8GnNsp1ZmZ2V7xJ1TNzDLkcDczy5DD3cwsQw53M7MMOdzNzDLkcDczy5DD3cwsQw53M7MMOdzNzDLkcDczy5DD3cwsQw53M7MMOdzNzDLkcDczy5DD3cwsQw53M7MMOdzNzDLkcDczy5DD3cwsQw53M7MMOdzNzDLkcDczy5DD3cwsQw53M7MMOdzNzDLkcDczy5DD3cwsQw53M7MMtRnukg6R9JSkVyStlXR1aj9I0iJJr6f7A1O7JP1EUp2k1ZLGlrsTZma2p1JG7juA6yLiaGA8cLmko4EbgCcj4gjgybQO8FXgiHSbAfy806s2M7NWtRnuEbExIlam5Q+BV4FhwCRgXtptHnB2Wp4E3BMFy4GBkg7u9MrNzKxF7Zpzl1QNfBF4HhgaERvTpneBoWl5GPBW0cPqU1vT55ohaYWkFZs3b25n2WZm1pqSw13Sp4CHgG9HxB+Kt0VEANGeA0fEnIioiYiawYMHt+ehZmbWhpLCXVJfCsH+DxHxcGp+b/d0S7rflNrfBg4pevjw1GZmZl2klLNlBMwFXo2IvyratBCYkpanAAuK2iens2bGA1uLpm/MzKwL9ClhnxOAi4E1kmpT203AbcADkqYBG4Dz0rZHgYlAHfAxcEmnVmxmZm1qM9wj4v8AamHzqc3sH8DlHazLzMw6wJ9QNTPLkMPdzCxDDnczsww53M3MMuRwNzPLUCmnQpqZdYk7F62rdAnZ8MjdzCxDDnczsww53M3MMuRwNzPLkMPdzCxDPlumI566tTLH/cqNlTmumXUbHrmbmWXI4W5mliGHu5lZhhzuZmYZcribmWXI4W5mliGHu5lZhhzuZmYZcribmWXI4W5mliGHu5lZhhzuZmYZcribmWXI4W5mliGHu5lZhtoMd0m/lLRJ0stFbQdJWiTp9XR/YGqXpJ9IqpO0WtLYchZvZmbNK2Xk/vfAhCZtNwBPRsQRwJNpHeCrwBHpNgP4eeeUaWZm7dHmf2KKiGckVTdpngScnJbnAUuB76b2eyIigOWSBko6OCI2dlbBRuX+AxT4v0CZdRN7O+c+tCiw3wWGpuVhwFtF+9Wntk+QNEPSCkkrNm/evJdlmJlZczr8hmoapcdePG5ORNRERM3gwYM7WoaZmRXZ23B/T9LBAOl+U2p/GzikaL/hqc3MzLrQ3ob7QmBKWp4CLChqn5zOmhkPbPV8u5lZ12vzDVVJv6Lw5ukgSfXA94HbgAckTQM2AOel3R8FJgJ1wMfAJWWo2czM2lDK2TIXtrDp1Gb2DeDyjhZlZmYd40+ompllyOFuZpYhh7uZWYYc7mZmGWrzDVUz61nuXLSu0iVYJ/DI3cwsQw53M7MMOdzNzDLkOXdrn0pdbtiXGjZrF4/czcwy5HA3M8uQw93MLEMOdzOzDDnczcwy5LNlzPZR/qSodYTD3boHn4Jp1i6eljEzy5DD3cwsQ56WMWuF572tu/LI3cwsQx65d0PPrW+o2LG/fFhVRY5bsT4fWpnDmnWUw93apZJ/WMysdJ6WMTPLkEfuHeBRrJntqxzuZq0Y/+acih17+aEzKnLcntjnHHX7cPfo2XJVyZC17s9z7mZmGer2I3czy0elXq3kOB1UlpG7pAmS/lVSnaQbynEMMzNrWaeHu6TewM+ArwJHAxdKOrqzj2NmZi0rx7TMOKAuItYDSLofmAS8UoZjmZl1WGXfvL6jLM9ajnAfBrxVtF4PHN90J0kzgN0TXR9J+te9PN4g4P29fGx35T73DO5zTzB9Vkf6/PmWNlTsDdWImAN0+M+lpBURUdMJJXUb7nPP4D73DOXqczneUH0bOKRofXhqMzOzLlKOcP8NcISkEZL2Ay4AFpbhOGZm1oJOn5aJiB2SrgCeAHoDv4yItZ19nCI98WN87nPP4D73DGXpsyKiHM9rZmYV5MsPmJllyOFuZpahbhPubV3SQNL+kuan7c9Lqu76KjtXCX2+VtIrklZLelJSi+e8dhelXrpC0jckhaRuf9pcKX2WdF76Xq+VdF9X19jZSvjZPlTSU5JWpZ/viZWos7NI+qWkTZJebmG7JP0kfT1WSxrb4YNGxD5/o/DG7G+Bw4D9gJeAo5vs81+Bv0nLFwDzK113F/T5K8CAtDyzJ/Q57XcA8AywHKipdN1d8H0+AlgFHJjWh1S67i7o8xxgZlo+Gnij0nV3sM8nAWOBl1vYPhF4DBAwHni+o8fsLiP3xksaRMT/A3Zf0qDYJGBeWn4QOFWSurDGztZmnyPiqYj4OK0up/CZgu6slO8zwA+B24FtXVlcmZTS50uBn0XEBwARsamLa+xspfQ5gE+n5c8A73RhfZ0uIp4Bft/KLpOAe6JgOTBQ0sEdOWZ3CffmLmkwrKV9ImIHsBWo6pLqyqOUPhebRuEvf3fWZp/Ty9VDIuJ/d2VhZVTK9/lI4EhJyyQtlzShy6orj1L6fDPwF5LqgUeBK7umtIpp7+97m3w99wxI+gugBviPla6lnCT1Av4K+GaFS+lqfShMzZxM4dXZM5JGR8SWilZVXhcCfx8RsyR9GbhX0jERsavShXUX3WXkXsolDRr3kdSHwku57vw/+Eq6jIOk04DvAWdFxJ+6qLZyaavPBwDHAEslvUFhbnJhN39TtZTvcz2wMCK2R8TvgHUUwr67KqXP04AHACLiOaAfhYuK5arTL9vSXcK9lEsaLASmpOVzgCWR3qnoptrss6QvAndTCPbuPg8LbfQ5IrZGxKCIqI6IagrvM5wVESsqU26nKOVn+39RGLUjaRCFaZr1XVlkJyulz28CpwJIGkkh3Dd3aZVdayEwOZ01Mx7YGhEbO/SMlX4XuR3vNk+kMGL5LfC91HYLhV9uKHzz/xGoA14ADqt0zV3Q58XAe0Btui2sdM3l7nOTfZfSzc+WKfH7LArTUa8Aa4ALKl1zF/T5aGAZhTNpaoEzKl1zB/v7K2AjsJ3CK7FpwGXAZUXf45+lr8eazvi59uUHzMwy1F2mZczMrB0c7mZmGXK4m5llyOFuZpYhh7uZWYYc7mZmGXK4m5ll6P8DSuTulH9Xx9QAAAAASUVORK5CYII=\n"
                },
                "metadata": {
                  "needs_background": "light"
                }
              }
            ]
          }
        },
        "e61d9a7ead8b435fb958bbdb9c97c761": {
          "model_module": "@jupyter-widgets/base",
          "model_name": "LayoutModel",
          "model_module_version": "1.2.0",
          "state": {
            "_model_module": "@jupyter-widgets/base",
            "_model_module_version": "1.2.0",
            "_model_name": "LayoutModel",
            "_view_count": null,
            "_view_module": "@jupyter-widgets/base",
            "_view_module_version": "1.2.0",
            "_view_name": "LayoutView",
            "align_content": null,
            "align_items": null,
            "align_self": null,
            "border": null,
            "bottom": null,
            "display": null,
            "flex": null,
            "flex_flow": null,
            "grid_area": null,
            "grid_auto_columns": null,
            "grid_auto_flow": null,
            "grid_auto_rows": null,
            "grid_column": null,
            "grid_gap": null,
            "grid_row": null,
            "grid_template_areas": null,
            "grid_template_columns": null,
            "grid_template_rows": null,
            "height": null,
            "justify_content": null,
            "justify_items": null,
            "left": null,
            "margin": null,
            "max_height": null,
            "max_width": null,
            "min_height": null,
            "min_width": null,
            "object_fit": null,
            "object_position": null,
            "order": null,
            "overflow": null,
            "overflow_x": null,
            "overflow_y": null,
            "padding": null,
            "right": null,
            "top": null,
            "visibility": null,
            "width": null
          }
        }
      }
    }
  },
  "nbformat": 4,
  "nbformat_minor": 0
}